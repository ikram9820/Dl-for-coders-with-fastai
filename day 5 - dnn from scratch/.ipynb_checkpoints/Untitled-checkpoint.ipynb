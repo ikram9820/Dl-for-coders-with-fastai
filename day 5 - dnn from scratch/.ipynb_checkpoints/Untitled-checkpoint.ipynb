{
 "cells": [
  {
   "cell_type": "code",
   "execution_count": 3,
   "id": "e4cb9e76",
   "metadata": {},
   "outputs": [],
   "source": [
    "import torch, numpy as np, pandas as pd\n",
    "import torchvision.datasets as ds"
   ]
  },
  {
   "cell_type": "code",
   "execution_count": 4,
   "id": "6ec1c626",
   "metadata": {
    "collapsed": true
   },
   "outputs": [
    {
     "name": "stdout",
     "output_type": "stream",
     "text": [
      "Downloading http://yann.lecun.com/exdb/mnist/train-images-idx3-ubyte.gz\n",
      "Downloading http://yann.lecun.com/exdb/mnist/train-images-idx3-ubyte.gz to ./data/MNIST/raw/train-images-idx3-ubyte.gz\n"
     ]
    },
    {
     "data": {
      "application/vnd.jupyter.widget-view+json": {
       "model_id": "9ed588e8e13d4cc9a8e8078b100878c5",
       "version_major": 2,
       "version_minor": 0
      },
      "text/plain": [
       "  0%|          | 0/9912422 [00:00<?, ?it/s]"
      ]
     },
     "metadata": {},
     "output_type": "display_data"
    },
    {
     "name": "stdout",
     "output_type": "stream",
     "text": [
      "Extracting ./data/MNIST/raw/train-images-idx3-ubyte.gz to ./data/MNIST/raw\n",
      "\n",
      "Downloading http://yann.lecun.com/exdb/mnist/train-labels-idx1-ubyte.gz\n",
      "Downloading http://yann.lecun.com/exdb/mnist/train-labels-idx1-ubyte.gz to ./data/MNIST/raw/train-labels-idx1-ubyte.gz\n"
     ]
    },
    {
     "data": {
      "application/vnd.jupyter.widget-view+json": {
       "model_id": "581936fe151348f995876a9083caf2dc",
       "version_major": 2,
       "version_minor": 0
      },
      "text/plain": [
       "  0%|          | 0/28881 [00:00<?, ?it/s]"
      ]
     },
     "metadata": {},
     "output_type": "display_data"
    },
    {
     "name": "stdout",
     "output_type": "stream",
     "text": [
      "Extracting ./data/MNIST/raw/train-labels-idx1-ubyte.gz to ./data/MNIST/raw\n",
      "\n",
      "Downloading http://yann.lecun.com/exdb/mnist/t10k-images-idx3-ubyte.gz\n",
      "Downloading http://yann.lecun.com/exdb/mnist/t10k-images-idx3-ubyte.gz to ./data/MNIST/raw/t10k-images-idx3-ubyte.gz\n"
     ]
    },
    {
     "data": {
      "application/vnd.jupyter.widget-view+json": {
       "model_id": "d51f29edd082472da93a2db573ea4886",
       "version_major": 2,
       "version_minor": 0
      },
      "text/plain": [
       "  0%|          | 0/1648877 [00:00<?, ?it/s]"
      ]
     },
     "metadata": {},
     "output_type": "display_data"
    },
    {
     "name": "stdout",
     "output_type": "stream",
     "text": [
      "Extracting ./data/MNIST/raw/t10k-images-idx3-ubyte.gz to ./data/MNIST/raw\n",
      "\n",
      "Downloading http://yann.lecun.com/exdb/mnist/t10k-labels-idx1-ubyte.gz\n",
      "Downloading http://yann.lecun.com/exdb/mnist/t10k-labels-idx1-ubyte.gz to ./data/MNIST/raw/t10k-labels-idx1-ubyte.gz\n"
     ]
    },
    {
     "data": {
      "application/vnd.jupyter.widget-view+json": {
       "model_id": "a9f3fd72d887456ea0a11564385e047a",
       "version_major": 2,
       "version_minor": 0
      },
      "text/plain": [
       "  0%|          | 0/4542 [00:00<?, ?it/s]"
      ]
     },
     "metadata": {},
     "output_type": "display_data"
    },
    {
     "name": "stdout",
     "output_type": "stream",
     "text": [
      "Extracting ./data/MNIST/raw/t10k-labels-idx1-ubyte.gz to ./data/MNIST/raw\n",
      "\n"
     ]
    }
   ],
   "source": [
    "ds = ds.MNIST(root= './data',download=True)"
   ]
  },
  {
   "cell_type": "code",
   "execution_count": 10,
   "id": "ba054eb0",
   "metadata": {},
   "outputs": [],
   "source": [
    "x = ds.data.reshape(ds.data.shape[0],ds.data.shape[1]*ds.data.shape[2])"
   ]
  },
  {
   "cell_type": "code",
   "execution_count": 13,
   "id": "55a94885",
   "metadata": {},
   "outputs": [],
   "source": [
    "x = x/255"
   ]
  },
  {
   "cell_type": "code",
   "execution_count": 19,
   "id": "327dcdcf",
   "metadata": {},
   "outputs": [],
   "source": [
    "y = ds.targets.reshape(ds.targets.shape[0],1)"
   ]
  },
  {
   "cell_type": "code",
   "execution_count": 27,
   "id": "428286b0",
   "metadata": {},
   "outputs": [
    {
     "data": {
      "text/plain": [
       "torch.Size([60000, 784])"
      ]
     },
     "execution_count": 27,
     "metadata": {},
     "output_type": "execute_result"
    }
   ],
   "source": [
    "x.shape"
   ]
  },
  {
   "cell_type": "code",
   "execution_count": 97,
   "id": "e2fbc4e9",
   "metadata": {
    "collapsed": true
   },
   "outputs": [
    {
     "data": {
      "text/plain": [
       "([tensor([[0.6510, 0.7945, 0.7114,  ..., 0.1527, 0.3960, 0.9859],\n",
       "          [0.8181, 0.5273, 0.7105,  ..., 0.8869, 0.1366, 0.7082],\n",
       "          [0.1619, 0.7444, 0.4090,  ..., 0.0491, 0.1502, 0.6095],\n",
       "          ...,\n",
       "          [0.8907, 0.9836, 0.2954,  ..., 0.1890, 0.7124, 0.3954],\n",
       "          [0.2904, 0.0955, 0.5555,  ..., 0.9304, 0.3584, 0.9105],\n",
       "          [0.6708, 0.5013, 0.1915,  ..., 0.9917, 0.4722, 0.8414]],\n",
       "         requires_grad=True),\n",
       "  tensor([[0.5435, 0.5935, 0.0792,  ..., 0.9542, 0.3606, 0.9219],\n",
       "          [0.8134, 0.1221, 0.0041,  ..., 0.5988, 0.1285, 0.6344],\n",
       "          [0.4257, 0.4538, 0.5940,  ..., 0.4205, 0.8372, 0.7759],\n",
       "          ...,\n",
       "          [0.2179, 0.5465, 0.3847,  ..., 0.5982, 0.6353, 0.8064],\n",
       "          [0.0217, 0.6013, 0.5187,  ..., 0.0857, 0.4432, 0.7002],\n",
       "          [0.5526, 0.9877, 0.1989,  ..., 0.6808, 0.1076, 0.9025]],\n",
       "         requires_grad=True)],\n",
       " [tensor([0.0105, 0.3418, 0.6283, 0.5455, 0.6635, 0.2958, 0.1790, 0.2171, 0.5402,\n",
       "          0.2150, 0.1034, 0.3032, 0.1815, 0.6688, 0.0621, 0.0957, 0.5758, 0.9644,\n",
       "          0.5708, 0.5050, 0.3170, 0.6329, 0.3189, 0.3300, 0.7641, 0.7080, 0.6243,\n",
       "          0.9374, 0.7462, 0.9951, 0.3010, 0.0657, 0.1786, 0.6999, 0.8907, 0.7843,\n",
       "          0.5850, 0.5043, 0.9943, 0.4436, 0.3668, 0.5117, 0.8922, 0.1125, 0.6770,\n",
       "          0.3967, 0.2825, 0.2400, 0.1315], requires_grad=True),\n",
       "  tensor([0.6712, 0.9130, 0.8414, 0.8947, 0.7821, 0.1628, 0.6411, 0.9909, 0.6206,\n",
       "          0.7805, 0.5514, 0.1871, 0.6431, 0.5905, 0.9636, 0.3546, 0.9734, 0.2945,\n",
       "          0.7248, 0.6003, 0.5197, 0.4836, 0.9633, 0.8820, 0.3213, 0.8886, 0.0855,\n",
       "          0.6023, 0.2541, 0.7537], requires_grad=True)])"
      ]
     },
     "execution_count": 97,
     "metadata": {},
     "output_type": "execute_result"
    }
   ],
   "source": [
    "def params_init(n_units):\n",
    "    l = len(n_units)\n",
    "    \n",
    "    weights = [ torch.rand( n_units[i], n_units[i+1] )  for  i in range(l-1)]\n",
    "    baises =  [ torch.rand(n_units[i+1]  )   for  i in range(l-1)]\n",
    "    for p in weights+baises: p.requires_grad_()\n",
    "    return weights, baises\n",
    "\n",
    "params_init([786,49,30])\n",
    "    \n",
    "    "
   ]
  },
  {
   "cell_type": "code",
   "execution_count": 32,
   "id": "a02bd2bb",
   "metadata": {},
   "outputs": [
    {
     "data": {
      "text/plain": [
       "torch.Size([60000, 784])"
      ]
     },
     "execution_count": 32,
     "metadata": {},
     "output_type": "execute_result"
    }
   ],
   "source": [
    "x.shape"
   ]
  },
  {
   "cell_type": "code",
   "execution_count": 98,
   "id": "e8604d69",
   "metadata": {},
   "outputs": [],
   "source": [
    "def predict(x,w,b):\n",
    "    l = len(w)\n",
    "    res = x\n",
    "    for i in range(l):\n",
    "        res = (res @ w[i]) +b[i]\n",
    "        if i != (l-1):\n",
    "            res = torch.clip(res,0.)\n",
    "    print(res)\n",
    "    return torch.sigmoid(res)\n",
    "        \n",
    "\n"
   ]
  },
  {
   "cell_type": "code",
   "execution_count": 99,
   "id": "0f17fb7c",
   "metadata": {},
   "outputs": [
    {
     "data": {
      "text/plain": [
       "(torch.Size([60000, 784]), torch.Size([784, 64]), torch.Size([64]))"
      ]
     },
     "execution_count": 99,
     "metadata": {},
     "output_type": "execute_result"
    }
   ],
   "source": [
    "w ,b = params_init([x.shape[1],64,32,16,1])\n",
    "x.shape,w[0].shape,b[0].shape\n"
   ]
  },
  {
   "cell_type": "code",
   "execution_count": 100,
   "id": "3c803676",
   "metadata": {},
   "outputs": [
    {
     "name": "stdout",
     "output_type": "stream",
     "text": [
      "tensor([[257146.4531],\n",
      "        [289643.8750],\n",
      "        [183489.9844],\n",
      "        ...,\n",
      "        [207375.0469],\n",
      "        [192408.7031],\n",
      "        [195968.6406]], grad_fn=<AddBackward0>)\n"
     ]
    }
   ],
   "source": [
    "pred = predict(x,w,b)\n"
   ]
  },
  {
   "cell_type": "code",
   "execution_count": 101,
   "id": "da3e8444",
   "metadata": {},
   "outputs": [],
   "source": [
    "def cost(y,pred):\n",
    "    m = y.shape[0]\n",
    "    cost = torch.sum(  (y*torch.log(pred)) + ((1-y)*torch.log(1-pred))  )*(-1/m)\n",
    "    return cost"
   ]
  },
  {
   "cell_type": "code",
   "execution_count": 103,
   "id": "63a5ef4e",
   "metadata": {},
   "outputs": [],
   "source": [
    "loss = cost(y,pred)"
   ]
  },
  {
   "cell_type": "code",
   "execution_count": null,
   "id": "5d4a58de",
   "metadata": {
    "collapsed": true
   },
   "outputs": [],
   "source": []
  }
 ],
 "metadata": {
  "kernelspec": {
   "display_name": "Python 3 (ipykernel)",
   "language": "python",
   "name": "python3"
  },
  "language_info": {
   "codemirror_mode": {
    "name": "ipython",
    "version": 3
   },
   "file_extension": ".py",
   "mimetype": "text/x-python",
   "name": "python",
   "nbconvert_exporter": "python",
   "pygments_lexer": "ipython3",
   "version": "3.9.12"
  }
 },
 "nbformat": 4,
 "nbformat_minor": 5
}
