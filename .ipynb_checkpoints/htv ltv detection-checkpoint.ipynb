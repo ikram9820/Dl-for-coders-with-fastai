{
 "cells": [
  {
   "cell_type": "code",
   "execution_count": 3,
   "id": "c62dcab3",
   "metadata": {},
   "outputs": [],
   "source": [
    "from fastai.vision.all import *\n",
    "from duckduckgo_search import ddg_images\n",
    "from fastdownload import download_url\n",
    "from fastcore.all import *\n",
    "from time import sleep\n"
   ]
  },
  {
   "cell_type": "code",
   "execution_count": 5,
   "id": "b318a0bc",
   "metadata": {},
   "outputs": [],
   "source": [
    "# def search_images(term, max_images = 30 ):\n",
    "#     print(f'Searching for {term}')\n",
    "#     return L(ddg_images(term, max_results= max_images)).itemgot('image')"
   ]
  },
  {
   "cell_type": "code",
   "execution_count": 6,
   "id": "62ee673b",
   "metadata": {},
   "outputs": [],
   "source": [
    "# urls = search_images('light weight transport vehicle')"
   ]
  },
  {
   "cell_type": "code",
   "execution_count": 7,
   "id": "c609bcc9",
   "metadata": {},
   "outputs": [],
   "source": [
    "# dest= 'htv.jpg'\n",
    "# download_url(urls[2],dest=dest)\n",
    "# im = Image.open(dest)\n",
    "# im.to_thumb(256,256)"
   ]
  },
  {
   "cell_type": "code",
   "execution_count": 8,
   "id": "08280d56",
   "metadata": {},
   "outputs": [],
   "source": [
    "# searchs = 'ltv','htv'\n",
    "# path = Path('htv_or_not')\n",
    "\n",
    "# for o in searchs:\n",
    "#     dest = (path/o)\n",
    "#     dest.mkdir(exist_ok=True, parents=True)\n",
    "#     download_images(dest = dest , urls= search_images(f'{o} vehicle photo',300) )\n",
    "#     sleep(10)\n",
    "#     resize_images(path/o, max_size= 400, dest= path/o)"
   ]
  },
  {
   "cell_type": "code",
   "execution_count": 10,
   "id": "1623cbae",
   "metadata": {
    "collapsed": true
   },
   "outputs": [
    {
     "data": {
      "text/plain": [
       "0"
      ]
     },
     "execution_count": 10,
     "metadata": {},
     "output_type": "execute_result"
    }
   ],
   "source": [
    "failed = verify_images(get_image_files(path))\n",
    "failed.map(Path.unlink)\n",
    "len(failed)"
   ]
  },
  {
   "cell_type": "code",
   "execution_count": null,
   "id": "4c64af17",
   "metadata": {},
   "outputs": [],
   "source": [
    "dls = DataBlock(blocks=[ImageBlock, CategoryBlock], \n",
    "               get_items=get_image_files,\n",
    "               splitter= RandomSplitter(seed= 42),lab\n",
    "               get_y=parent_label, item_tfms= [Resize(192,method='squish')],\n",
    "               batch_tfms = [aug_transforms(mult =2)]\n",
    "               ).dataloaders(path,bs=32)\n",
    "dls.show_batch(max_n= 6)"
   ]
  },
  {
   "cell_type": "code",
   "execution_count": null,
   "id": "b630c993",
   "metadata": {},
   "outputs": [],
   "source": [
    "learn = vision_learner(dls, resnet18, metrics= error_rate)"
   ]
  },
  {
   "cell_type": "code",
   "execution_count": null,
   "id": "0197a401",
   "metadata": {},
   "outputs": [],
   "source": [
    "learn.fine_tune(5)"
   ]
  },
  {
   "cell_type": "code",
   "execution_count": null,
   "id": "73ce30b5",
   "metadata": {},
   "outputs": [],
   "source": [
    "is_htv, _, probs = learn.predict(PILImage.create('birdss.jpg'))\n",
    "print(f'this is a {is_htv}')\n",
    "print(f'prob it is a bird :{probs[0]:.4f}')"
   ]
  },
  {
   "cell_type": "code",
   "execution_count": null,
   "id": "b5a6c02c",
   "metadata": {},
   "outputs": [],
   "source": [
    "interp = ClassificationInterpretation.from_learner(learn)\n",
    "interp.plot_confusion_matrix()"
   ]
  },
  {
   "cell_type": "code",
   "execution_count": null,
   "id": "9f5843f6",
   "metadata": {},
   "outputs": [],
   "source": [
    "interp.plot_top_losses(5,nrows=1,figsize=(17,4))"
   ]
  },
  {
   "cell_type": "code",
   "execution_count": null,
   "id": "72f6163c",
   "metadata": {},
   "outputs": [],
   "source": [
    "cleaner = ImageClassifierCleaner(learn)\n",
    "cleaner"
   ]
  },
  {
   "cell_type": "code",
   "execution_count": null,
   "id": "b281168d",
   "metadata": {},
   "outputs": [],
   "source": [
    "for idx in cleaner.delete(): cleaner.fns[idx].unlink()\n",
    "for idx,cat in cleaner.change(): shutil.move(str(cleaner.fns[idx]), path/cat)"
   ]
  },
  {
   "cell_type": "code",
   "execution_count": null,
   "id": "0e0676ba",
   "metadata": {},
   "outputs": [],
   "source": [
    "learn.export()"
   ]
  }
 ],
 "metadata": {
  "kernelspec": {
   "display_name": "Python 3 (ipykernel)",
   "language": "python",
   "name": "python3"
  },
  "language_info": {
   "codemirror_mode": {
    "name": "ipython",
    "version": 3
   },
   "file_extension": ".py",
   "mimetype": "text/x-python",
   "name": "python",
   "nbconvert_exporter": "python",
   "pygments_lexer": "ipython3",
   "version": "3.9.12"
  }
 },
 "nbformat": 4,
 "nbformat_minor": 5
}
