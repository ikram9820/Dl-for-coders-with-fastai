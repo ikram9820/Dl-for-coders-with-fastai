{
 "cells": [
  {
   "cell_type": "code",
   "execution_count": 14,
   "id": "8ab10c4e",
   "metadata": {},
   "outputs": [],
   "source": [
    "from fastai.vision.all import *\n",
    "import numpy as np, pandas as pd\n",
    "import matplotlib.pyplot as plt\n",
    "%matplotlib inline"
   ]
  },
  {
   "cell_type": "code",
   "execution_count": 2,
   "id": "22df3e42",
   "metadata": {},
   "outputs": [],
   "source": [
    "from pathlib import Path\n",
    "import json\n",
    "from PIL import ImageDraw , ImageFont"
   ]
  },
  {
   "cell_type": "code",
   "execution_count": 7,
   "id": "01ee21c4",
   "metadata": {
    "scrolled": true
   },
   "outputs": [],
   "source": [
    "PATH = untar_data(URLs.PASCAL_2007)\n",
    "list(PATH.iterdir())"
   ]
  },
  {
   "cell_type": "code",
   "execution_count": null,
   "id": "5b4e231f",
   "metadata": {},
   "outputs": [],
   "source": [
    "trn_j = json.load(PATH/'pascal_train2007.json')\n",
    "trn_j.key()"
   ]
  },
  {
   "cell_type": "code",
   "execution_count": 8,
   "id": "457f6731",
   "metadata": {},
   "outputs": [],
   "source": [
    "IMAGES, ANNOTATIONS, CATEGORIES = ['images','annotaions','categories']"
   ]
  },
  {
   "cell_type": "code",
   "execution_count": null,
   "id": "bb48e028",
   "metadata": {},
   "outputs": [],
   "source": [
    "trn_j[IMAGES][:2], trn_j[ANNOTATIONS][:2], trn_j[CATEGORIES][:2]"
   ]
  },
  {
   "cell_type": "code",
   "execution_count": 9,
   "id": "23a7f03b",
   "metadata": {},
   "outputs": [],
   "source": [
    "FILE_NAME, ID, IMG_ID, CAT_ID, BBOX = 'file_name', 'id', 'image_id', 'category_id','bbox'"
   ]
  },
  {
   "cell_type": "code",
   "execution_count": null,
   "id": "b31f7a5d",
   "metadata": {},
   "outputs": [],
   "source": [
    "cats = dict( (o[ID],o['name']) for o in trn_j[CATEGORIES] )\n",
    "trn_fns = dict( (o[ID],o[FILE_NAME]) for o in trn_j[IMAGES])\n",
    "trn_ids = [ o[ID]  for o in trn_j[IMAGES] ]"
   ]
  },
  {
   "cell_type": "code",
   "execution_count": 10,
   "id": "e0496d21",
   "metadata": {},
   "outputs": [],
   "source": [
    "JPEGS = 'VOCdevkit;VOC2007/JPEGImages'"
   ]
  },
  {
   "cell_type": "code",
   "execution_count": 11,
   "id": "f1c54747",
   "metadata": {},
   "outputs": [],
   "source": [
    "IMG_PATH = PATH/JPEGS"
   ]
  },
  {
   "cell_type": "code",
   "execution_count": null,
   "id": "e3a7089c",
   "metadata": {},
   "outputs": [],
   "source": [
    "list(IMG_PATH.iterdir())[:2]"
   ]
  },
  {
   "cell_type": "code",
   "execution_count": 13,
   "id": "81d2e54e",
   "metadata": {},
   "outputs": [],
   "source": [
    "trn_anno = collections.defaultdict(lambda:[])\n",
    "for o in trn_j[ANNOTATIONS]:\n",
    "    if not o['ignore']:\n",
    "        bb = o[BBOX]\n",
    "        bb = np.array([ bb[1], bb[0], bb[3]+bb[1]-1, bb[2]+bb[0]-1 ])\n",
    "        trn_anno[o[IMG_ID]].append((bb,o[CAT_ID]))\n",
    "len(trn_anno)"
   ]
  },
  {
   "cell_type": "code",
   "execution_count": 21,
   "id": "f8b8d646",
   "metadata": {},
   "outputs": [],
   "source": [
    "def bb_hw(a): return np.array([a[1], a[0], a[3]-a[1], a[2]-a[0]])"
   ]
  },
  {
   "cell_type": "code",
   "execution_count": null,
   "id": "a0a3ac63",
   "metadata": {},
   "outputs": [],
   "source": [
    "im0_d = trn_j[IMAGES][0]\n",
    "im0_d[FILE_NAME],im0_d[ID]"
   ]
  },
  {
   "cell_type": "code",
   "execution_count": null,
   "id": "20697d9f",
   "metadata": {},
   "outputs": [],
   "source": [
    "im_a = trn_anno[im0_d[ID]] ; im_a"
   ]
  },
  {
   "cell_type": "code",
   "execution_count": null,
   "id": "1681944f",
   "metadata": {},
   "outputs": [],
   "source": [
    "im0_a = im0_a[0]; im0_a"
   ]
  },
  {
   "cell_type": "code",
   "execution_count": null,
   "id": "e8ca293f",
   "metadata": {},
   "outputs": [],
   "source": [
    "im = open_image(IMG_PATH/im0_d[FILE_NAME])"
   ]
  },
  {
   "cell_type": "code",
   "execution_count": 22,
   "id": "86807481",
   "metadata": {},
   "outputs": [],
   "source": [
    "def show_img(im, figsize=None, ax=None):\n",
    "    if not ax: fig, ax = plt.subplots(figsize= figsize)\n",
    "    ax.imshow(im)\n",
    "    ax.get_xaxis().set_visible(False)\n",
    "    ax.get_yaxis().set_visible(False)\n",
    "    return ax"
   ]
  },
  {
   "cell_type": "code",
   "execution_count": 23,
   "id": "6d14ebe4",
   "metadata": {},
   "outputs": [],
   "source": [
    "def draw_outline(o,lw):\n",
    "    o.set_path_effects([patheffects.Stroke(linewidth=lw, foreground='black'),patheffects.Normal()])"
   ]
  },
  {
   "cell_type": "code",
   "execution_count": 24,
   "id": "61e5a6bb",
   "metadata": {},
   "outputs": [],
   "source": [
    "def draw_rect(ac,b):\n",
    "    patch = ax.add_patch(patches.Rectangle(b[:2],*b[-2],fill= False, edgecolor ='white',lw=2))\n",
    "    draw_outline(patch,4)"
   ]
  },
  {
   "cell_type": "code",
   "execution_count": 25,
   "id": "698d7a54",
   "metadata": {},
   "outputs": [],
   "source": [
    "def draw_text(ax,xy,txt,sz=14):\n",
    "    text = ax.text(*xy,txt,verticalalignment='top',color= 'white',fontsize= sz,weight='bold')\n",
    "    draw_outline(text,1)"
   ]
  },
  {
   "cell_type": "code",
   "execution_count": null,
   "id": "42be4800",
   "metadata": {},
   "outputs": [],
   "source": [
    "ax = show_img(im)\n",
    "b = bb_hw(im0_a[0])\n",
    "draw_rect(ax,b)\n",
    "draw_text(ax,b[:2],cats[im0_a[1]])"
   ]
  },
  {
   "cell_type": "code",
   "execution_count": 27,
   "id": "b9e275b9",
   "metadata": {},
   "outputs": [],
   "source": [
    "def draw_im(im,ann):\n",
    "    ax = show_img(im,figsize= (16,8))\n",
    "    for b,c in ann:\n",
    "        b = bb_hw(b)\n",
    "        draw_rect(ax,b)\n",
    "        draw_text(ax,b[:2],cats[c],sz= 16)"
   ]
  },
  {
   "cell_type": "code",
   "execution_count": 28,
   "id": "5efb96ba",
   "metadata": {},
   "outputs": [],
   "source": [
    "def draw_idx(i):\n",
    "    im_a = trn_anno[i]\n",
    "    im = open_image(IMG_PATH/trn_fns[i])\n",
    "    print(im.shape)\n",
    "    draw_im(im,im_a)"
   ]
  },
  {
   "cell_type": "code",
   "execution_count": null,
   "id": "013057e7",
   "metadata": {},
   "outputs": [],
   "source": [
    "draw_idx(17)"
   ]
  },
  {
   "cell_type": "markdown",
   "id": "4665f68f",
   "metadata": {},
   "source": [
    "# largest item classifier"
   ]
  },
  {
   "cell_type": "code",
   "execution_count": 29,
   "id": "bf36285f",
   "metadata": {},
   "outputs": [],
   "source": [
    "def get_lrg(b):\n",
    "    if not b : raise Exception()\n",
    "    b = sorted(b,key = lambda x:np.product(x[0][-2:]-x[0][:2]),reverse=True)\n",
    "    return b[0]"
   ]
  },
  {
   "cell_type": "code",
   "execution_count": null,
   "id": "2913b89f",
   "metadata": {},
   "outputs": [],
   "source": [
    "trn_lrg_anno = { a:get_lrg(b) for a,b in trn_anno.item() }"
   ]
  },
  {
   "cell_type": "code",
   "execution_count": null,
   "id": "83caadd1",
   "metadata": {},
   "outputs": [],
   "source": [
    "b,c = trn_lrg_anno[23]\n",
    "b = bb_hw(b)\n",
    "ax = show_img(open_image(IMG_PATH/trn_fns[23]), figsize=(5,10))\n",
    "draw_rect(ax,b)\n",
    "draw_text(ax,b[:2],cats[c],sz=16)"
   ]
  },
  {
   "cell_type": "code",
   "execution_count": 31,
   "id": "7207f88a",
   "metadata": {},
   "outputs": [],
   "source": [
    "(PATH/'tmp').mkdir(exist_ok= True)\n",
    "CSV = PATH/'tmp/lrg.csv'"
   ]
  },
  {
   "cell_type": "code",
   "execution_count": null,
   "id": "6269691a",
   "metadata": {},
   "outputs": [],
   "source": [
    "df = pd.DataFrame({'fn':[trn_fns[0] for o in trn_ids],\n",
    "                   'cats':[cats[trn_lrg_anno[o][1]] for o in trn_ids]},columns=['fn','cat'])\n",
    "df.to_csv(CSV,index= False)"
   ]
  },
  {
   "cell_type": "code",
   "execution_count": 32,
   "id": "45a6111a",
   "metadata": {},
   "outputs": [],
   "source": [
    "f_model = resnet34\n",
    "sz = 224\n",
    "bs = 64"
   ]
  },
  {
   "cell_type": "code",
   "execution_count": null,
   "id": "5fdca248",
   "metadata": {},
   "outputs": [],
   "source": [
    "tfms = tfms_from_model(f_model,sz,aug_tfms = transforms_side_on,crop_type=CropType.NO )\n",
    "md = ImageClassifierData.from_csv(PATH,JPEGS,CSV,tfms=tfms)"
   ]
  },
  {
   "cell_type": "code",
   "execution_count": null,
   "id": "cab1a94f",
   "metadata": {},
   "outputs": [],
   "source": [
    "x,y = next(iter(md.val_dl))\n",
    "show_img(md.val_ds.denorm(to_np(x))[0])"
   ]
  },
  {
   "cell_type": "code",
   "execution_count": null,
   "id": "11398d24",
   "metadata": {},
   "outputs": [],
   "source": [
    "learn = ConvLearner.pretrained(f_model, md, metrics= [accuracy])\n",
    "learn.opt_fn = optim.Adam"
   ]
  },
  {
   "cell_type": "code",
   "execution_count": null,
   "id": "7a34dca0",
   "metadata": {},
   "outputs": [],
   "source": [
    "lrf = learn.lr_find(1e-5,100)"
   ]
  },
  {
   "cell_type": "code",
   "execution_count": null,
   "id": "b2327c24",
   "metadata": {},
   "outputs": [],
   "source": [
    "learn.sched.plot()"
   ]
  },
  {
   "cell_type": "code",
   "execution_count": null,
   "id": "998f4a2a",
   "metadata": {},
   "outputs": [],
   "source": [
    "learn.sched.plot(n_skip = 5, n_skip_end = 1)"
   ]
  },
  {
   "cell_type": "code",
   "execution_count": 33,
   "id": "f06a83b5",
   "metadata": {},
   "outputs": [],
   "source": [
    "lr = 2e-2"
   ]
  },
  {
   "cell_type": "code",
   "execution_count": null,
   "id": "31fbd787",
   "metadata": {},
   "outputs": [],
   "source": [
    "learn.fit(lr,1,cycle_len= 1)"
   ]
  },
  {
   "cell_type": "code",
   "execution_count": null,
   "id": "bdbaa725",
   "metadata": {},
   "outputs": [],
   "source": [
    "learn.unfreeze()"
   ]
  },
  {
   "cell_type": "code",
   "execution_count": null,
   "id": "d81d1c7d",
   "metadata": {},
   "outputs": [],
   "source": [
    "learn.fit(lrs/5,1,cycle_len=2)"
   ]
  },
  {
   "cell_type": "code",
   "execution_count": null,
   "id": "d6d503cc",
   "metadata": {},
   "outputs": [],
   "source": [
    "learn.save('class_one')"
   ]
  },
  {
   "cell_type": "code",
   "execution_count": null,
   "id": "4a9971f8",
   "metadata": {},
   "outputs": [],
   "source": [
    "learn.load('class_one')"
   ]
  },
  {
   "cell_type": "code",
   "execution_count": null,
   "id": "cb525833",
   "metadata": {},
   "outputs": [],
   "source": [
    "x,y = next(iter(md.val_dl))\n",
    "probs = F.softmax(predict_batch(learn.model,x),-1)\n",
    "x,preds = to_np(x),to_np(probs)\n",
    "preds = np.argmax(preds,-1)"
   ]
  },
  {
   "cell_type": "code",
   "execution_count": 37,
   "id": "8fd48ec9",
   "metadata": {},
   "outputs": [],
   "source": [
    "fig,axes = plt.subplots(3,4,figsize=(12,8))\n",
    "for i,ax in enumerate(axes.flat):\n",
    "    ima = md.val_ds.denorm(x)[i]\n",
    "    b = md.classes[pred[i]]\n",
    "    ax = show_img(ima,ax=ax)\n",
    "    draw_text(ax,(0,0),b)\n",
    "plt.tight_layout()"
   ]
  },
  {
   "cell_type": "markdown",
   "id": "bb081066",
   "metadata": {},
   "source": [
    "# Bbox only"
   ]
  },
  {
   "cell_type": "code",
   "execution_count": 45,
   "id": "b3980caf",
   "metadata": {},
   "outputs": [],
   "source": [
    "BB_CSV = PATH/'tmp/bb.csv'"
   ]
  },
  {
   "cell_type": "code",
   "execution_count": null,
   "id": "edb1dcc4",
   "metadata": {},
   "outputs": [],
   "source": [
    "bb = np.array([trn_lrg_anno[o][0] for o in trn_ids])\n",
    "bbs = [''.join(str(p) for p in o) for o in bb]\n",
    "\n",
    "df = pd.DataFrame({'fn':[trn_fns[o] for o in trn_ids], 'bbox':bbs},columns = ['fn','bbox'])\n",
    "df.to_csv(BB_CSV,index=False)"
   ]
  },
  {
   "cell_type": "code",
   "execution_count": null,
   "id": "bad1927b",
   "metadata": {},
   "outputs": [],
   "source": [
    "BB_CSV.open().readlines()[:5]"
   ]
  },
  {
   "cell_type": "code",
   "execution_count": null,
   "id": "0e99370f",
   "metadata": {},
   "outputs": [],
   "source": [
    "tfms = tfms_from_model(f_model,sz,crop_type = CropType.NO, tfm_y = TfmTyp.COORD)\n",
    "md = ImageClassifierData.from_csv(PATH,JPEGS,BB_CSV,tfms=tfms, continuous = True)"
   ]
  },
  {
   "cell_type": "code",
   "execution_count": null,
   "id": "a435307d",
   "metadata": {},
   "outputs": [],
   "source": [
    "x,y = next(iter(md.val_dl))"
   ]
  },
  {
   "cell_type": "code",
   "execution_count": null,
   "id": "fc84f055",
   "metadata": {},
   "outputs": [],
   "source": [
    "ima = md.val_ds.denorm(to_np(x))[0]\n",
    "b = bb_hw(to_np(y[0])); b"
   ]
  },
  {
   "cell_type": "code",
   "execution_count": null,
   "id": "564a0bbc",
   "metadata": {},
   "outputs": [],
   "source": [
    "ax = show_img(ima)\n",
    "draw_rect(ax,b)\n",
    "draw_text(ax,b[:2],'label')"
   ]
  },
  {
   "cell_type": "code",
   "execution_count": null,
   "id": "e01b4af2",
   "metadata": {},
   "outputs": [],
   "source": [
    "head_reg4 = nn.Sequential(Flatten(),nn.Linear(25088,4))\n",
    "learn = ConvLearner.pretrained(f_model,md,custom_head=head_reg4)\n",
    "laern.opt_fn = optim.Adam\n",
    "learn.crit = nn.L1Loss()"
   ]
  },
  {
   "cell_type": "code",
   "execution_count": null,
   "id": "bd9fbcb1",
   "metadata": {},
   "outputs": [],
   "source": [
    "learn.summary()"
   ]
  },
  {
   "cell_type": "code",
   "execution_count": null,
   "id": "6b2b3d2e",
   "metadata": {},
   "outputs": [],
   "source": [
    "learn.lr_find(1e-5,100)\n",
    "leanr.sched.plot(5)"
   ]
  },
  {
   "cell_type": "code",
   "execution_count": null,
   "id": "db2b4ace",
   "metadata": {},
   "outputs": [],
   "source": [
    "lr = 2e-3"
   ]
  },
  {
   "cell_type": "code",
   "execution_count": null,
   "id": "aa7a225a",
   "metadata": {},
   "outputs": [],
   "source": [
    "learn.fit(lr,2,cycle_len=1,cycle_mult= 2)"
   ]
  },
  {
   "cell_type": "code",
   "execution_count": null,
   "id": "c3dfe753",
   "metadata": {},
   "outputs": [],
   "source": [
    "lrs = np.array([lr/100,lr/10,lr])"
   ]
  },
  {
   "cell_type": "code",
   "execution_count": null,
   "id": "55c84f36",
   "metadata": {},
   "outputs": [],
   "source": [
    "learn.freeze_to(-2)"
   ]
  },
  {
   "cell_type": "code",
   "execution_count": null,
   "id": "ec899b89",
   "metadata": {},
   "outputs": [],
   "source": [
    "lrf = learn.lr_find(lrs/1000)\n",
    "learn.sched.plot(1)"
   ]
  },
  {
   "cell_type": "code",
   "execution_count": null,
   "id": "45213f3b",
   "metadata": {},
   "outputs": [],
   "source": [
    "learn.fit(lrs,2,cycle_len=1,cycle_mult= 2)"
   ]
  },
  {
   "cell_type": "code",
   "execution_count": null,
   "id": "36c12f76",
   "metadata": {},
   "outputs": [],
   "source": [
    "learn.freeze_to(-3)"
   ]
  },
  {
   "cell_type": "code",
   "execution_count": null,
   "id": "ad8ee323",
   "metadata": {},
   "outputs": [],
   "source": [
    "learn.fit(lrs,1,cycle_len=2)"
   ]
  },
  {
   "cell_type": "code",
   "execution_count": null,
   "id": "6ab04e3e",
   "metadata": {},
   "outputs": [],
   "source": [
    "learn.save('reg4')"
   ]
  },
  {
   "cell_type": "code",
   "execution_count": null,
   "id": "9a4d1473",
   "metadata": {},
   "outputs": [],
   "source": [
    "learn.load('reg4')"
   ]
  },
  {
   "cell_type": "code",
   "execution_count": null,
   "id": "de71c0a1",
   "metadata": {},
   "outputs": [],
   "source": [
    "x,y = next(iter(md.val_dl))\n",
    "learn.model.eval()\n",
    "preds = to_np(learn.model(VV(x)))"
   ]
  },
  {
   "cell_type": "code",
   "execution_count": null,
   "id": "26cfc594",
   "metadata": {},
   "outputs": [],
   "source": [
    "fig, axex = plt.subplot(3,4,figsize=(12,8))\n",
    "for i,ax in enumerate(axes.flat):\n",
    "    ima = md.val_ds.denorm(to_np(x))[i]\n",
    "    b = bb_hw(preds[i])\n",
    "    ax = show_img(ima,ax=ax)\n",
    "    draw_rect(ax,b)\n",
    "plt.tight_layout()"
   ]
  },
  {
   "cell_type": "code",
   "execution_count": null,
   "id": "de58db29",
   "metadata": {},
   "outputs": [],
   "source": []
  },
  {
   "cell_type": "code",
   "execution_count": null,
   "id": "b41d2079",
   "metadata": {},
   "outputs": [],
   "source": []
  },
  {
   "cell_type": "code",
   "execution_count": null,
   "id": "934604c7",
   "metadata": {},
   "outputs": [],
   "source": []
  },
  {
   "cell_type": "code",
   "execution_count": null,
   "id": "f60139e4",
   "metadata": {},
   "outputs": [],
   "source": []
  },
  {
   "cell_type": "code",
   "execution_count": null,
   "id": "c267ec15",
   "metadata": {},
   "outputs": [],
   "source": []
  }
 ],
 "metadata": {
  "kernelspec": {
   "display_name": "Python 3 (ipykernel)",
   "language": "python",
   "name": "python3"
  },
  "language_info": {
   "codemirror_mode": {
    "name": "ipython",
    "version": 3
   },
   "file_extension": ".py",
   "mimetype": "text/x-python",
   "name": "python",
   "nbconvert_exporter": "python",
   "pygments_lexer": "ipython3",
   "version": "3.9.12"
  }
 },
 "nbformat": 4,
 "nbformat_minor": 5
}
