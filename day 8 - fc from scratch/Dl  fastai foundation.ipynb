{
 "cells": [
  {
   "cell_type": "code",
   "execution_count": 1,
   "id": "21b1629d",
   "metadata": {},
   "outputs": [],
   "source": [
    "import torch\n",
    "from torchvision.datasets import MNIST"
   ]
  },
  {
   "cell_type": "markdown",
   "id": "fcf9417d",
   "metadata": {},
   "source": [
    "# data preprocessing"
   ]
  },
  {
   "cell_type": "code",
   "execution_count": 2,
   "id": "39b9b8f3",
   "metadata": {},
   "outputs": [],
   "source": [
    "ds = MNIST('.',train = True, download= True)"
   ]
  },
  {
   "cell_type": "code",
   "execution_count": 3,
   "id": "f18bd5d0",
   "metadata": {},
   "outputs": [],
   "source": [
    "def normalize(x,m,s):\n",
    "    return (x-m)/s"
   ]
  },
  {
   "cell_type": "code",
   "execution_count": 4,
   "id": "6288cf3b",
   "metadata": {},
   "outputs": [],
   "source": [
    "x = ds.data.reshape(60000,(28*28))/255.\n",
    "y = ds.targets"
   ]
  },
  {
   "cell_type": "code",
   "execution_count": 5,
   "id": "34af0ab5",
   "metadata": {},
   "outputs": [
    {
     "data": {
      "text/plain": [
       "(tensor(0.1307), tensor(0.3081))"
      ]
     },
     "execution_count": 5,
     "metadata": {},
     "output_type": "execute_result"
    }
   ],
   "source": [
    "mean = x.mean()\n",
    "std = x.std()\n",
    "mean , std"
   ]
  },
  {
   "cell_type": "code",
   "execution_count": 6,
   "id": "709c731e",
   "metadata": {},
   "outputs": [],
   "source": [
    "x = normalize(x,mean,std)"
   ]
  },
  {
   "cell_type": "code",
   "execution_count": 7,
   "id": "44647b07",
   "metadata": {},
   "outputs": [
    {
     "data": {
      "text/plain": [
       "(tensor(-1.6608e-09), tensor(1.0000))"
      ]
     },
     "execution_count": 7,
     "metadata": {},
     "output_type": "execute_result"
    }
   ],
   "source": [
    "x.mean(),x.std()"
   ]
  },
  {
   "cell_type": "code",
   "execution_count": 8,
   "id": "792ad54b",
   "metadata": {},
   "outputs": [],
   "source": [
    "n, m = x.shape\n",
    "c = y.max()+1"
   ]
  },
  {
   "cell_type": "code",
   "execution_count": 9,
   "id": "89dfca63",
   "metadata": {},
   "outputs": [
    {
     "data": {
      "text/plain": [
       "(60000, 784, tensor(10))"
      ]
     },
     "execution_count": 9,
     "metadata": {},
     "output_type": "execute_result"
    }
   ],
   "source": [
    "n,m,c"
   ]
  },
  {
   "cell_type": "markdown",
   "id": "c23a8835",
   "metadata": {},
   "source": [
    "# weight initialization"
   ]
  },
  {
   "cell_type": "code",
   "execution_count": 10,
   "id": "1491ad4f",
   "metadata": {},
   "outputs": [],
   "source": [
    "n_in = 28 *28\n",
    "nh = 50\n",
    "n_out = 1"
   ]
  },
  {
   "cell_type": "code",
   "execution_count": 11,
   "id": "4bcb31b8",
   "metadata": {},
   "outputs": [],
   "source": [
    "# kaiming init / he init for relu, which can not maintain mean and std\n",
    "w1 = torch.randn(n_in,nh)* (2/m)**0.5 \n",
    "b1 = torch.zeros(nh)\n",
    "w2 = torch.randn(nh,n_out)* (2/m)**0.5 \n",
    "b2 = torch.zeros(1)"
   ]
  },
  {
   "cell_type": "markdown",
   "id": "450c1fb1",
   "metadata": {},
   "source": [
    "# Function based NN"
   ]
  },
  {
   "cell_type": "code",
   "execution_count": 12,
   "id": "c8922250",
   "metadata": {},
   "outputs": [],
   "source": [
    "def lin(x, w, b):\n",
    "    return x @ w + b"
   ]
  },
  {
   "cell_type": "code",
   "execution_count": 13,
   "id": "58c3d66f",
   "metadata": {},
   "outputs": [],
   "source": [
    "def relu(x):\n",
    "    return x.clamp_min(0).float()"
   ]
  },
  {
   "cell_type": "code",
   "execution_count": 14,
   "id": "1dc948a5",
   "metadata": {},
   "outputs": [],
   "source": [
    "def mse(pred, y):\n",
    "    return ((pred.squeeze(-1)-y)**2).float().mean()"
   ]
  },
  {
   "cell_type": "code",
   "execution_count": 15,
   "id": "abe44263",
   "metadata": {},
   "outputs": [],
   "source": [
    "#Al \n",
    "def mse_grad(pred, y):\n",
    "    pred.g = 2. * (pred.squeeze() - y).unsqueeze(-1) / y.shape[0]"
   ]
  },
  {
   "cell_type": "code",
   "execution_count": 16,
   "id": "e301d41d",
   "metadata": {},
   "outputs": [],
   "source": [
    "def relu_grad(Z, A):\n",
    "    Z.g = (Z > 0).float() * A.g"
   ]
  },
  {
   "cell_type": "code",
   "execution_count": 17,
   "id": "27ed6d91",
   "metadata": {},
   "outputs": [],
   "source": [
    "def lin_grad(inp, out, w, b):\n",
    "    inp.g = out.g @ w.t()\n",
    "    w.g = (inp.unsqueeze(-1) * out.g.unsqueeze(1)).sum(0)\n",
    "    b.g = out.g.sum(0)"
   ]
  },
  {
   "cell_type": "code",
   "execution_count": 18,
   "id": "8946bd15",
   "metadata": {},
   "outputs": [],
   "source": [
    "def forward_backward(x, y, w1, b1, w2, b2):\n",
    "    l1 = lin(x, w1, b1)\n",
    "    l2 = relu(l1)\n",
    "    out = lin(l2, w2, b2)\n",
    "    \n",
    "    loss = mse(out, y)\n",
    "    \n",
    "    mse_grad(out ,y)\n",
    "    lin_grad(l2, out, w2, b2)\n",
    "    relu_grad(l1, l2)\n",
    "    lin_grad(x, l1, w1, b1)"
   ]
  },
  {
   "cell_type": "code",
   "execution_count": 19,
   "id": "78967c1c",
   "metadata": {},
   "outputs": [],
   "source": [
    "forward_backward(x,y,w1,b1,w2,b2)"
   ]
  },
  {
   "cell_type": "code",
   "execution_count": null,
   "id": "dd4c4298",
   "metadata": {},
   "outputs": [],
   "source": []
  },
  {
   "cell_type": "markdown",
   "id": "356c4df0",
   "metadata": {},
   "source": [
    "# Class based NN"
   ]
  },
  {
   "cell_type": "code",
   "execution_count": 20,
   "id": "5cd6338a",
   "metadata": {},
   "outputs": [],
   "source": [
    "class Module:\n",
    "    def __call__(self, *args):\n",
    "        self.args = args\n",
    "        self.out = self.forward(*args)\n",
    "        return self.out\n",
    "        \n",
    "    def forward(self):\n",
    "        raise Exception('not implemented')\n",
    "    def bwd(self):\n",
    "        raise Exception('not implemented')\n",
    "        \n",
    "    def backward(self):\n",
    "        self.bwd(self.out,*self.args)"
   ]
  },
  {
   "cell_type": "code",
   "execution_count": 21,
   "id": "c6b2924d",
   "metadata": {},
   "outputs": [],
   "source": [
    "class Relu(Module):\n",
    "    def forward(self,x):\n",
    "        return x.clamp_min(0.)-0.5\n",
    "    def bwd(self, out, x):\n",
    "        x.g = (x > 0).float()*out.g\n",
    "    "
   ]
  },
  {
   "cell_type": "code",
   "execution_count": 22,
   "id": "d6036dc3",
   "metadata": {},
   "outputs": [],
   "source": [
    "class Lin(Module):\n",
    "    def __init__(self,w,b):\n",
    "        self.w = w\n",
    "        self.b = b\n",
    "    \n",
    "    def forward(self, x):\n",
    "        return ( x @ self.w ) + self.b\n",
    "    \n",
    "    def bwd(self,out ,x):\n",
    "        x.g = out.g @ self.w.T\n",
    "        self.w.g = x.T @ out.g\n",
    "        self.b.g = out.g.sum(0)"
   ]
  },
  {
   "cell_type": "code",
   "execution_count": 23,
   "id": "b5136807",
   "metadata": {},
   "outputs": [],
   "source": [
    "class Mse(Module):\n",
    "    def forward(self,pred,y):\n",
    "        return ((pred.squeeze() -y )**2).mean()\n",
    "    def bwd(self,out, pred , y):\n",
    "        pred.g = 2*(pred.squeeze() - y ).unsqueeze(-1)/y.shape[0]\n",
    "        "
   ]
  },
  {
   "cell_type": "code",
   "execution_count": 24,
   "id": "c9ffc70a",
   "metadata": {},
   "outputs": [],
   "source": [
    "class Model:\n",
    "    def __init__(self,w1,b1,w2,b2):\n",
    "        self.layers = [Lin(w1,b1),Relu(),Lin(w2,b2)]\n",
    "        self.loss = Mse()\n",
    "    def __call__(self,x,y):\n",
    "        for l in self.layers:\n",
    "            x = l(x)\n",
    "        return self.loss(x,y)\n",
    "    def backward(self):\n",
    "        self.loss.backward()\n",
    "        for l in reversed(self.layers):\n",
    "            l.backward()"
   ]
  },
  {
   "cell_type": "code",
   "execution_count": 25,
   "id": "932c5fde",
   "metadata": {},
   "outputs": [],
   "source": [
    "model = Model(w1,b1,w2,b2)"
   ]
  },
  {
   "cell_type": "code",
   "execution_count": 26,
   "id": "3424504d",
   "metadata": {},
   "outputs": [],
   "source": [
    "loss = model(x,y)"
   ]
  },
  {
   "cell_type": "code",
   "execution_count": 27,
   "id": "5fc099c5",
   "metadata": {},
   "outputs": [],
   "source": [
    "model.backward()"
   ]
  },
  {
   "cell_type": "markdown",
   "id": "224ab58e",
   "metadata": {},
   "source": [
    "# Pytorch NN"
   ]
  },
  {
   "cell_type": "code",
   "execution_count": 28,
   "id": "5740dc23",
   "metadata": {},
   "outputs": [],
   "source": [
    "import torch.nn as nn"
   ]
  },
  {
   "cell_type": "code",
   "execution_count": 29,
   "id": "ed0445a2",
   "metadata": {},
   "outputs": [],
   "source": [
    "def mse(output, targ): return (output.squeeze(-1) - targ).pow(2).mean()"
   ]
  },
  {
   "cell_type": "code",
   "execution_count": 30,
   "id": "74e916f0",
   "metadata": {},
   "outputs": [],
   "source": [
    "class Model(nn.Module):\n",
    "    def __init__(self, n_in, nh, n_out):\n",
    "        super().__init__()\n",
    "        self.layers = [nn.Linear(n_in,nh), nn.ReLU(), nn.Linear(nh,n_out)]\n",
    "        self.loss = mse\n",
    "        \n",
    "    def __call__(self, x, targ):\n",
    "        for l in self.layers: x = l(x)\n",
    "        return self.loss(x.squeeze(), targ)"
   ]
  },
  {
   "cell_type": "code",
   "execution_count": 31,
   "id": "1514a5da",
   "metadata": {},
   "outputs": [],
   "source": [
    "model =Model(n_in,nh,n_out)"
   ]
  },
  {
   "cell_type": "code",
   "execution_count": 32,
   "id": "4d142df7",
   "metadata": {},
   "outputs": [],
   "source": [
    "loss = model(x,y)"
   ]
  },
  {
   "cell_type": "code",
   "execution_count": 33,
   "id": "7a4735d4",
   "metadata": {},
   "outputs": [],
   "source": [
    "loss.backward()"
   ]
  },
  {
   "cell_type": "code",
   "execution_count": null,
   "id": "8317837c",
   "metadata": {},
   "outputs": [],
   "source": []
  }
 ],
 "metadata": {
  "kernelspec": {
   "display_name": "Python 3 (ipykernel)",
   "language": "python",
   "name": "python3"
  },
  "language_info": {
   "codemirror_mode": {
    "name": "ipython",
    "version": 3
   },
   "file_extension": ".py",
   "mimetype": "text/x-python",
   "name": "python",
   "nbconvert_exporter": "python",
   "pygments_lexer": "ipython3",
   "version": "3.9.12"
  }
 },
 "nbformat": 4,
 "nbformat_minor": 5
}
