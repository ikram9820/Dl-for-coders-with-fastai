{
 "cells": [
  {
   "cell_type": "code",
   "execution_count": 93,
   "id": "21b1629d",
   "metadata": {},
   "outputs": [],
   "source": [
    "import torch\n",
    "import math\n",
    "import torch.nn.functional as F\n",
    "from torchvision.datasets import MNIST"
   ]
  },
  {
   "cell_type": "markdown",
   "id": "fcf9417d",
   "metadata": {},
   "source": [
    "# data preprocessing"
   ]
  },
  {
   "cell_type": "code",
   "execution_count": 569,
   "id": "39b9b8f3",
   "metadata": {},
   "outputs": [],
   "source": [
    "ds = MNIST('.',train = True, download= True)\n",
    "val_ds = MNIST('.',train = False, download= True)"
   ]
  },
  {
   "cell_type": "code",
   "execution_count": 570,
   "id": "f18bd5d0",
   "metadata": {},
   "outputs": [],
   "source": [
    "def normalize(x,m,s):\n",
    "    return (x-m)/s"
   ]
  },
  {
   "cell_type": "code",
   "execution_count": 571,
   "id": "6288cf3b",
   "metadata": {},
   "outputs": [],
   "source": [
    "x = ds.data.reshape(60000,(28*28)).float()#/255. # it is not good to normalize images with 255\n",
    "y = ds.targets\n",
    "\n",
    "val_x = val_ds.data.reshape(val_ds.data.shape[0],(28*28)).float()#/255.\n",
    "val_y = val_ds.targets"
   ]
  },
  {
   "cell_type": "code",
   "execution_count": 572,
   "id": "34af0ab5",
   "metadata": {},
   "outputs": [
    {
     "data": {
      "text/plain": [
       "(tensor(33.3184), tensor(78.5675))"
      ]
     },
     "execution_count": 572,
     "metadata": {},
     "output_type": "execute_result"
    }
   ],
   "source": [
    "mean = x.mean()\n",
    "std = x.std()\n",
    "mean , std"
   ]
  },
  {
   "cell_type": "code",
   "execution_count": 573,
   "id": "709c731e",
   "metadata": {},
   "outputs": [],
   "source": [
    "x = normalize(x,mean,std) # it is better to normalize images with (x-mean) / std\n",
    "val_x = normalize(val_x,mean,std)"
   ]
  },
  {
   "cell_type": "code",
   "execution_count": 574,
   "id": "44647b07",
   "metadata": {},
   "outputs": [
    {
     "data": {
      "text/plain": [
       "(tensor(1.8601e-08), tensor(1.))"
      ]
     },
     "execution_count": 574,
     "metadata": {},
     "output_type": "execute_result"
    }
   ],
   "source": [
    "x.mean(),x.std()"
   ]
  },
  {
   "cell_type": "code",
   "execution_count": 535,
   "id": "792ad54b",
   "metadata": {},
   "outputs": [],
   "source": [
    "n, m = x.shape\n",
    "c = y.max()+1"
   ]
  },
  {
   "cell_type": "code",
   "execution_count": 9,
   "id": "89dfca63",
   "metadata": {},
   "outputs": [
    {
     "data": {
      "text/plain": [
       "(60000, 784, tensor(10))"
      ]
     },
     "execution_count": 9,
     "metadata": {},
     "output_type": "execute_result"
    }
   ],
   "source": [
    "n,m,c"
   ]
  },
  {
   "cell_type": "markdown",
   "id": "c23a8835",
   "metadata": {},
   "source": [
    "# weight initialization"
   ]
  },
  {
   "cell_type": "code",
   "execution_count": 536,
   "id": "1491ad4f",
   "metadata": {},
   "outputs": [],
   "source": [
    "n_in = 28 *28\n",
    "nh = 50\n",
    "n_out = 1\n",
    "bs = 64\n",
    "lr = 0.01"
   ]
  },
  {
   "cell_type": "code",
   "execution_count": 537,
   "id": "4bcb31b8",
   "metadata": {},
   "outputs": [],
   "source": [
    "# kaiming init / he init for relu, which can not maintain mean and std\n",
    "w1 = torch.randn(n_in,nh)* (2/m)**0.5 \n",
    "b1 = torch.zeros(nh)\n",
    "w2 = torch.randn(nh,n_out)* (2/m)**0.5 \n",
    "b2 = torch.zeros(1)"
   ]
  },
  {
   "cell_type": "markdown",
   "id": "450c1fb1",
   "metadata": {},
   "source": [
    "# Function based NN"
   ]
  },
  {
   "cell_type": "code",
   "execution_count": 12,
   "id": "c8922250",
   "metadata": {},
   "outputs": [],
   "source": [
    "def lin(x, w, b):\n",
    "    return x @ w + b"
   ]
  },
  {
   "cell_type": "code",
   "execution_count": 13,
   "id": "58c3d66f",
   "metadata": {},
   "outputs": [],
   "source": [
    "def relu(x):\n",
    "    return x.clamp_min(0).float()"
   ]
  },
  {
   "cell_type": "code",
   "execution_count": 14,
   "id": "1dc948a5",
   "metadata": {},
   "outputs": [],
   "source": [
    "def mse(pred, y):\n",
    "    return ((pred.squeeze(-1)-y)**2).float().mean()"
   ]
  },
  {
   "cell_type": "code",
   "execution_count": 15,
   "id": "abe44263",
   "metadata": {},
   "outputs": [],
   "source": [
    "#Al \n",
    "def mse_grad(pred, y):\n",
    "    pred.g = 2. * (pred.squeeze() - y).unsqueeze(-1) / y.shape[0]"
   ]
  },
  {
   "cell_type": "code",
   "execution_count": 16,
   "id": "e301d41d",
   "metadata": {},
   "outputs": [],
   "source": [
    "def relu_grad(Z, A):\n",
    "    Z.g = (Z > 0).float() * A.g"
   ]
  },
  {
   "cell_type": "code",
   "execution_count": 17,
   "id": "27ed6d91",
   "metadata": {},
   "outputs": [],
   "source": [
    "def lin_grad(inp, out, w, b):\n",
    "    inp.g = out.g @ w.t()\n",
    "    w.g = (inp.unsqueeze(-1) * out.g.unsqueeze(1)).sum(0)\n",
    "    b.g = out.g.sum(0)"
   ]
  },
  {
   "cell_type": "code",
   "execution_count": 18,
   "id": "8946bd15",
   "metadata": {},
   "outputs": [],
   "source": [
    "def forward_backward(x, y, w1, b1, w2, b2):\n",
    "    l1 = lin(x, w1, b1)\n",
    "    l2 = relu(l1)\n",
    "    out = lin(l2, w2, b2)\n",
    "    \n",
    "    loss = mse(out, y)\n",
    "    \n",
    "    mse_grad(out ,y)\n",
    "    lin_grad(l2, out, w2, b2)\n",
    "    relu_grad(l1, l2)\n",
    "    lin_grad(x, l1, w1, b1)"
   ]
  },
  {
   "cell_type": "code",
   "execution_count": 19,
   "id": "78967c1c",
   "metadata": {},
   "outputs": [],
   "source": [
    "forward_backward(x,y,w1,b1,w2,b2)"
   ]
  },
  {
   "cell_type": "code",
   "execution_count": null,
   "id": "dd4c4298",
   "metadata": {},
   "outputs": [],
   "source": []
  },
  {
   "cell_type": "markdown",
   "id": "356c4df0",
   "metadata": {},
   "source": [
    "# Class based NN"
   ]
  },
  {
   "cell_type": "code",
   "execution_count": 20,
   "id": "5cd6338a",
   "metadata": {},
   "outputs": [],
   "source": [
    "class Module:\n",
    "    def __call__(self, *args):\n",
    "        self.args = args\n",
    "        self.out = self.forward(*args)\n",
    "        return self.out\n",
    "        \n",
    "    def forward(self):\n",
    "        raise Exception('not implemented')\n",
    "    def bwd(self):\n",
    "        raise Exception('not implemented')\n",
    "        \n",
    "    def backward(self):\n",
    "        self.bwd(self.out,*self.args)"
   ]
  },
  {
   "cell_type": "code",
   "execution_count": 21,
   "id": "c6b2924d",
   "metadata": {},
   "outputs": [],
   "source": [
    "class Relu(Module):\n",
    "    def forward(self,x):\n",
    "        return x.clamp_min(0.)-0.5\n",
    "    def bwd(self, out, x):\n",
    "        x.g = (x > 0).float()*out.g\n",
    "    "
   ]
  },
  {
   "cell_type": "code",
   "execution_count": 22,
   "id": "d6036dc3",
   "metadata": {},
   "outputs": [],
   "source": [
    "class Lin(Module):\n",
    "    def __init__(self,w,b):\n",
    "        self.w = w\n",
    "        self.b = b\n",
    "    \n",
    "    def forward(self, x):\n",
    "        return ( x @ self.w ) + self.b\n",
    "    \n",
    "    def bwd(self,out ,x):\n",
    "        x.g = out.g @ self.w.T\n",
    "        self.w.g = x.T @ out.g\n",
    "        self.b.g = out.g.sum(0)"
   ]
  },
  {
   "cell_type": "code",
   "execution_count": 23,
   "id": "b5136807",
   "metadata": {},
   "outputs": [],
   "source": [
    "class Mse(Module):\n",
    "    def forward(self,pred,y):\n",
    "        return ((pred.squeeze() -y )**2).mean()\n",
    "    def bwd(self,out, pred , y):\n",
    "        pred.g = 2*(pred.squeeze() - y ).unsqueeze(-1)/y.shape[0]\n",
    "        "
   ]
  },
  {
   "cell_type": "code",
   "execution_count": 24,
   "id": "c9ffc70a",
   "metadata": {},
   "outputs": [],
   "source": [
    "class Model:\n",
    "    def __init__(self,w1,b1,w2,b2):\n",
    "        self.layers = [Lin(w1,b1),Relu(),Lin(w2,b2)]\n",
    "        self.loss = Mse()\n",
    "    def __call__(self,x,y):\n",
    "        for l in self.layers:\n",
    "            x = l(x)\n",
    "        return self.loss(x,y)\n",
    "    def backward(self):\n",
    "        self.loss.backward()\n",
    "        for l in reversed(self.layers):\n",
    "            l.backward()"
   ]
  },
  {
   "cell_type": "code",
   "execution_count": 25,
   "id": "932c5fde",
   "metadata": {},
   "outputs": [],
   "source": [
    "model = Model(w1,b1,w2,b2)"
   ]
  },
  {
   "cell_type": "code",
   "execution_count": 26,
   "id": "3424504d",
   "metadata": {},
   "outputs": [],
   "source": [
    "loss = model(x,y)"
   ]
  },
  {
   "cell_type": "code",
   "execution_count": 27,
   "id": "5fc099c5",
   "metadata": {},
   "outputs": [],
   "source": [
    "model.backward()"
   ]
  },
  {
   "cell_type": "markdown",
   "id": "224ab58e",
   "metadata": {},
   "source": [
    "# Pytorch NN"
   ]
  },
  {
   "cell_type": "code",
   "execution_count": 28,
   "id": "5740dc23",
   "metadata": {},
   "outputs": [],
   "source": [
    "import torch.nn as nn"
   ]
  },
  {
   "cell_type": "code",
   "execution_count": 29,
   "id": "ed0445a2",
   "metadata": {},
   "outputs": [],
   "source": [
    "def mse(output, targ): return (output.squeeze(-1) - targ).pow(2).mean()"
   ]
  },
  {
   "cell_type": "code",
   "execution_count": 30,
   "id": "74e916f0",
   "metadata": {},
   "outputs": [],
   "source": [
    "class Model(nn.Module):\n",
    "    def __init__(self, n_in, nh, n_out):\n",
    "        super().__init__()\n",
    "        self.layers = [nn.Linear(n_in,nh), nn.ReLU(), nn.Linear(nh,n_out)]\n",
    "        self.loss = mse\n",
    "        \n",
    "    def __call__(self, x, targ):\n",
    "        for l in self.layers: x = l(x)\n",
    "        return self.loss(x.squeeze(), targ)"
   ]
  },
  {
   "cell_type": "code",
   "execution_count": 31,
   "id": "1514a5da",
   "metadata": {},
   "outputs": [],
   "source": [
    "model =Model(n_in,nh,n_out)"
   ]
  },
  {
   "cell_type": "code",
   "execution_count": 32,
   "id": "4d142df7",
   "metadata": {},
   "outputs": [],
   "source": [
    "loss = model(x,y)"
   ]
  },
  {
   "cell_type": "code",
   "execution_count": 33,
   "id": "7a4735d4",
   "metadata": {},
   "outputs": [],
   "source": [
    "loss.backward()"
   ]
  },
  {
   "cell_type": "code",
   "execution_count": 34,
   "id": "8317837c",
   "metadata": {},
   "outputs": [
    {
     "data": {
      "text/plain": [
       "tensor(28.4902, grad_fn=<MeanBackward0>)"
      ]
     },
     "execution_count": 34,
     "metadata": {},
     "output_type": "execute_result"
    }
   ],
   "source": [
    "loss"
   ]
  },
  {
   "cell_type": "markdown",
   "id": "62425f60",
   "metadata": {},
   "source": [
    "# day 9 How to train your model "
   ]
  },
  {
   "cell_type": "code",
   "execution_count": 35,
   "id": "82246ea1",
   "metadata": {},
   "outputs": [],
   "source": [
    "nn.modules.conv._ConvNd.reset_parameters??"
   ]
  },
  {
   "cell_type": "code",
   "execution_count": 36,
   "id": "2d468935",
   "metadata": {},
   "outputs": [],
   "source": [
    "# x= x.view(-1,1,28,28)"
   ]
  },
  {
   "cell_type": "code",
   "execution_count": 538,
   "id": "9f8ce25c",
   "metadata": {},
   "outputs": [
    {
     "data": {
      "text/plain": [
       "torch.Size([60000, 784])"
      ]
     },
     "execution_count": 538,
     "metadata": {},
     "output_type": "execute_result"
    }
   ],
   "source": [
    "x.shape"
   ]
  },
  {
   "cell_type": "code",
   "execution_count": 539,
   "id": "45c2132e",
   "metadata": {},
   "outputs": [],
   "source": [
    "def stats(x): return x.mean(),x.std()"
   ]
  },
  {
   "cell_type": "code",
   "execution_count": 540,
   "id": "05685d38",
   "metadata": {},
   "outputs": [],
   "source": [
    "l1 = nn.Conv2d(1, 32, 5)"
   ]
  },
  {
   "cell_type": "code",
   "execution_count": 541,
   "id": "b6920c37",
   "metadata": {},
   "outputs": [
    {
     "data": {
      "text/plain": [
       "(tensor(-0.0042, grad_fn=<MeanBackward0>),\n",
       " tensor(0.1126, grad_fn=<StdBackward0>))"
      ]
     },
     "execution_count": 541,
     "metadata": {},
     "output_type": "execute_result"
    }
   ],
   "source": [
    "stats(l1.weight)"
   ]
  },
  {
   "cell_type": "code",
   "execution_count": 542,
   "id": "9c83988b",
   "metadata": {},
   "outputs": [],
   "source": [
    "def gain(a):\n",
    "    return math.sqrt(2.0 /(1 + a**2))"
   ]
  },
  {
   "cell_type": "code",
   "execution_count": 543,
   "id": "37cdd1a3",
   "metadata": {},
   "outputs": [
    {
     "data": {
      "text/plain": [
       "0.5773502691896257"
      ]
     },
     "execution_count": 543,
     "metadata": {},
     "output_type": "execute_result"
    }
   ],
   "source": [
    "gain(5**0.5)"
   ]
  },
  {
   "cell_type": "code",
   "execution_count": 544,
   "id": "599291f3",
   "metadata": {},
   "outputs": [],
   "source": [
    "def kaiming2(x, a, use_fan_out=False):\n",
    "    nf, ni, *_ = x.shape\n",
    "    rec_fs = x[0,0].shape.numel()\n",
    "    fan = nf*rec_fs if use_fan_out else ni*rec_fs\n",
    "    std = gain(a) /math.sqrt(fan)\n",
    "    bound = math.sqrt(3.) * std\n",
    "    x.data.uniform_(-bound,bound)"
   ]
  },
  {
   "cell_type": "code",
   "execution_count": 545,
   "id": "ae817855",
   "metadata": {},
   "outputs": [
    {
     "data": {
      "text/plain": [
       "(tensor(1.8601e-08), tensor(1.))"
      ]
     },
     "execution_count": 545,
     "metadata": {},
     "output_type": "execute_result"
    }
   ],
   "source": [
    "kaiming2(l1.weight,a=0)\n",
    "stats(x)"
   ]
  },
  {
   "cell_type": "markdown",
   "id": "0519403b",
   "metadata": {},
   "source": [
    "# cross entropy loss"
   ]
  },
  {
   "cell_type": "code",
   "execution_count": 45,
   "id": "c79d4d7d",
   "metadata": {},
   "outputs": [],
   "source": [
    "def log_softmax1(x):\n",
    "    return (x.exp()/x.exp().sum(-1,keepdims= True)).log()"
   ]
  },
  {
   "cell_type": "code",
   "execution_count": 46,
   "id": "1435e372",
   "metadata": {},
   "outputs": [],
   "source": [
    "def log_softmax2(x):\n",
    "    return x - x.exp().sum(-1, keepdims= True).log()"
   ]
  },
  {
   "cell_type": "code",
   "execution_count": 47,
   "id": "98c802f7",
   "metadata": {},
   "outputs": [
    {
     "data": {
      "text/plain": [
       "(tensor([-4.4519, -3.4519, -2.4519, -1.4519, -0.4519]),\n",
       " tensor([-4.4519, -3.4519, -2.4519, -1.4519, -0.4519]))"
      ]
     },
     "execution_count": 47,
     "metadata": {},
     "output_type": "execute_result"
    }
   ],
   "source": [
    "log_softmax1(torch.arange(5)),log_softmax2(torch.arange(5)) # same  b/c: log(a/b) == log(a) - log(b) & ln(e^x)==x"
   ]
  },
  {
   "cell_type": "code",
   "execution_count": null,
   "id": "7d27c7a5",
   "metadata": {},
   "outputs": [],
   "source": []
  },
  {
   "cell_type": "code",
   "execution_count": 48,
   "id": "f987cf87",
   "metadata": {},
   "outputs": [],
   "source": [
    "def nll(perd , y):\n",
    "    return - pred[range(y.shape[0]), y].mean()"
   ]
  },
  {
   "cell_type": "code",
   "execution_count": 79,
   "id": "6d35bd46",
   "metadata": {},
   "outputs": [],
   "source": [
    "def logsumexp(x):\n",
    "    m = x.max(-1)[0]\n",
    "    print(x.shape,m.shape)\n",
    "    return m + (x - m[:,None]).exp().sum(-1).log()"
   ]
  },
  {
   "cell_type": "code",
   "execution_count": 80,
   "id": "bbccba62",
   "metadata": {},
   "outputs": [],
   "source": [
    "def log_softmax(x): # now it is stable then previous two version\n",
    "    return x - logsumexp(x)"
   ]
  },
  {
   "cell_type": "code",
   "execution_count": 81,
   "id": "ae6a0b1c",
   "metadata": {},
   "outputs": [],
   "source": [
    "m = nn.Sequential(nn.Linear(28*28,256),nn.ReLU(),\n",
    "                  nn.Linear(256,64),nn.ReLU(),\n",
    "                  nn.Linear(64,10) )\n"
   ]
  },
  {
   "cell_type": "code",
   "execution_count": 84,
   "id": "b84a22ed",
   "metadata": {},
   "outputs": [],
   "source": [
    "out = m(x)"
   ]
  },
  {
   "cell_type": "code",
   "execution_count": 86,
   "id": "ee180475",
   "metadata": {},
   "outputs": [],
   "source": [
    "pred = log_softmax1(out)"
   ]
  },
  {
   "cell_type": "code",
   "execution_count": 87,
   "id": "49a430a5",
   "metadata": {},
   "outputs": [
    {
     "data": {
      "text/plain": [
       "(torch.Size([60000, 10]), torch.Size([60000]))"
      ]
     },
     "execution_count": 87,
     "metadata": {},
     "output_type": "execute_result"
    }
   ],
   "source": [
    "pred.shape,y.shape"
   ]
  },
  {
   "cell_type": "code",
   "execution_count": 88,
   "id": "5affa7d8",
   "metadata": {},
   "outputs": [
    {
     "data": {
      "text/plain": [
       "tensor(2.3286, grad_fn=<NegBackward0>)"
      ]
     },
     "execution_count": 88,
     "metadata": {},
     "output_type": "execute_result"
    }
   ],
   "source": [
    "nll(pred,y)"
   ]
  },
  {
   "cell_type": "markdown",
   "id": "5d71d38b",
   "metadata": {},
   "source": [
    "\n",
    "# Training loop and dataloader"
   ]
  },
  {
   "cell_type": "code",
   "execution_count": 546,
   "id": "2d895512",
   "metadata": {},
   "outputs": [],
   "source": [
    "class Model(nn.Module):\n",
    "    def __init__(self,n_in,nh,n_out):\n",
    "        super().__init__()\n",
    "        self.layers = nn.ModuleList([nn.Linear(n_in,nh,),nn.ReLU(),nn.Linear(nh,n_out)])\n",
    "    def __call__(self,x):\n",
    "        for l in self.layers: x = l(x)\n",
    "        return x"
   ]
  },
  {
   "cell_type": "code",
   "execution_count": 547,
   "id": "c49545ad",
   "metadata": {},
   "outputs": [],
   "source": [
    "def accuracy(pred, y):\n",
    "    return (torch.argmax(pred, dim=1)  ==y).float().mean()"
   ]
  },
  {
   "cell_type": "code",
   "execution_count": 548,
   "id": "c1bc3469",
   "metadata": {},
   "outputs": [],
   "source": [
    "class Dataset:\n",
    "    def __init__(self,x,y): self.x,self.y = x,y\n",
    "        \n",
    "    def __len__(self): return len(self.y)\n",
    "    \n",
    "    def __getitem__(self,i): return self.x[i] ,self.y[i]"
   ]
  },
  {
   "cell_type": "code",
   "execution_count": 549,
   "id": "180bab49",
   "metadata": {},
   "outputs": [],
   "source": [
    "class DataLoader:\n",
    "    def __init__(self, ds, bs): self.bs, self.ds = bs , ds\n",
    "    def __iter__(self):\n",
    "        bs = self.bs\n",
    "        for i in range(0,len(self.ds),bs): yield self.ds[i:i+bs]"
   ]
  },
  {
   "cell_type": "code",
   "execution_count": 550,
   "id": "7c991ffa",
   "metadata": {},
   "outputs": [],
   "source": [
    "class Sampler:\n",
    "    def __init__(self,ds,bs,shuffle = True):\n",
    "        print(len(ds))\n",
    "        self.m, self.bs, self.shuffle = len(ds),bs,shuffle\n",
    "    def __iter__(self):\n",
    "        \n",
    "        idx = torch.randperm(self.m) if self.shuffle else torch.arange(self.m)\n",
    "        print(len(idx),self.m)\n",
    "        for i in (0, self.m, self.bs): yield idx[i:i+self.bs]"
   ]
  },
  {
   "cell_type": "code",
   "execution_count": 551,
   "id": "e533b1b3",
   "metadata": {},
   "outputs": [],
   "source": [
    "class Optimizer:\n",
    "    def __init__(self,params,lr):\n",
    "        self.params, self.lr = list(params), lr\n",
    "        \n",
    "    def step(self):\n",
    "        with torch.no_grad():\n",
    "            for p in self.params: p -= p.grad * self.lr\n",
    "    def zero_grad(self):\n",
    "        for p in self.params : p.grad.data.zero_()"
   ]
  },
  {
   "cell_type": "code",
   "execution_count": 552,
   "id": "739fbaf3",
   "metadata": {},
   "outputs": [],
   "source": [
    "dl = DataLoader(ds,64)"
   ]
  },
  {
   "cell_type": "code",
   "execution_count": 553,
   "id": "0bef476d",
   "metadata": {},
   "outputs": [],
   "source": [
    "def collate(b):\n",
    "    xs,ys = zip(*b)\n",
    "    return torch.stack(xs),torch.stack(ys)\n",
    "class Dataloader:\n",
    "    def __init(self, ds,sampler,collate_fn= collate):\n",
    "        self.ds , self,sampler, self.collate_fn = ds, sampler, collate_fn\n",
    "    def __iter__(self):\n",
    "        for s in sampler : yield self.collate_fn([ds[i] for i in s])"
   ]
  },
  {
   "cell_type": "code",
   "execution_count": null,
   "id": "b63fed78",
   "metadata": {},
   "outputs": [],
   "source": []
  },
  {
   "cell_type": "code",
   "execution_count": 554,
   "id": "db4e84e2",
   "metadata": {},
   "outputs": [],
   "source": [
    "from torch.utils.data import SequentialSampler, RandomSampler, DataLoader"
   ]
  },
  {
   "cell_type": "code",
   "execution_count": 580,
   "id": "8475cc08",
   "metadata": {},
   "outputs": [],
   "source": [
    "model = Model(n_in,nh,10)\n",
    "opt = Optimizer(model.parameters(),0.1)\n",
    "loss_fn = F.cross_entropy # F.crossentropy(pred,y) == nll(log_softmax(x),y)\n",
    "ds = Dataset(x,y)\n",
    "val_ds = Dataset(val_x,val_y)"
   ]
  },
  {
   "cell_type": "code",
   "execution_count": 590,
   "id": "89d8dfe9",
   "metadata": {},
   "outputs": [],
   "source": []
  },
  {
   "cell_type": "code",
   "execution_count": 591,
   "id": "47985408",
   "metadata": {},
   "outputs": [],
   "source": [
    "def get_dls(train_ds,val_ds,bs,**kwargs):\n",
    "    return (DataLoader(train_ds,batch_size=bs,shuffle=True,**kwargs), #sampler = RandomSampler(ds), collate_fn=collate)\n",
    "            DataLoader(val_ds,batch_size=bs*2,**kwargs) ) #sampler=SequentialSampler(val_ds),collate_fn=collate)\n",
    "\n",
    "class DataBunch:\n",
    "    def __init__(self, dl, val_dl, c=None):\n",
    "        self.dl, self.val_dl, self.c = dl, val_dl, c\n",
    "    @property\n",
    "    def train_ds(self):\n",
    "        return self.dl.dataset\n",
    "    @property\n",
    "    def val_ds(self):\n",
    "        return self.val_dl.dataset"
   ]
  },
  {
   "cell_type": "code",
   "execution_count": 592,
   "id": "dca79d71",
   "metadata": {},
   "outputs": [],
   "source": [
    "import torch.optim as optim"
   ]
  },
  {
   "cell_type": "code",
   "execution_count": 595,
   "id": "baa487d9",
   "metadata": {},
   "outputs": [],
   "source": [
    "def get_model(data,lr=0.1,nh=50):\n",
    "    m = data.train_ds.x.shape[1]\n",
    "    model = nn.Sequential(nn.Linear(m,nh),nn.ReLU(),nn.Linear(nh,data.c))\n",
    "    return model, optim.SGD(model.parameters(),lr=lr)\n",
    "\n",
    "class Learner:\n",
    "    def __init__(self,model, opt, loss_fn, data):\n",
    "        self.model,self.opt,self.loss_fn,self.data = model, opt, loss_fn,data"
   ]
  },
  {
   "cell_type": "code",
   "execution_count": 598,
   "id": "a935f4dc",
   "metadata": {},
   "outputs": [],
   "source": [
    "data = DataBunch(*get_dls(ds,val_ds,bs),10)\n",
    "model, opt = get_model(data)\n",
    "learn = Learner(model,opt,loss_fn,data)"
   ]
  },
  {
   "cell_type": "code",
   "execution_count": 602,
   "id": "a9b37907",
   "metadata": {},
   "outputs": [],
   "source": [
    "def fit(epochs,learn):\n",
    "    for epoch in range(epochs):\n",
    "        learn.model.train()\n",
    "        for xb,yb in learn.data.dl:\n",
    "            loss = learn.loss_fn(model(xb),yb)\n",
    "            loss.backward()\n",
    "            learn.opt.step()\n",
    "            learn.opt.zero_grad()\n",
    "            \n",
    "        learn.model.eval()  \n",
    "        with torch.no_grad():\n",
    "            tot_loss, tot_acc = 0.,0.\n",
    "            for val_xb,val_yb in learn.data.val_dl:\n",
    "                pred = learn.model(val_xb)\n",
    "                tot_loss += learn.loss_fn(pred ,val_yb)\n",
    "                tot_acc  += accuracy(pred,val_yb)\n",
    "        nv = len(val_dl)    \n",
    "        print(f'epoch {epoch}: loss {tot_loss/nv}, accuarcy {tot_acc/nv}')\n",
    "    return tot_loss/nv"
   ]
  },
  {
   "cell_type": "code",
   "execution_count": 603,
   "id": "129ea524",
   "metadata": {},
   "outputs": [
    {
     "name": "stdout",
     "output_type": "stream",
     "text": [
      "epoch 0: loss 0.18881641328334808, accuarcy 0.9434335231781006\n",
      "epoch 1: loss 0.1419752538204193, accuarcy 0.956289529800415\n",
      "epoch 2: loss 0.11192645132541656, accuarcy 0.9662777185440063\n",
      "epoch 3: loss 0.09910941123962402, accuarcy 0.969343364238739\n",
      "epoch 4: loss 0.11994745582342148, accuarcy 0.9634097814559937\n"
     ]
    },
    {
     "data": {
      "text/plain": [
       "tensor(0.1199)"
      ]
     },
     "execution_count": 603,
     "metadata": {},
     "output_type": "execute_result"
    }
   ],
   "source": [
    "fit(5,learn)"
   ]
  },
  {
   "cell_type": "code",
   "execution_count": null,
   "id": "4202e0a2",
   "metadata": {},
   "outputs": [],
   "source": []
  }
 ],
 "metadata": {
  "kernelspec": {
   "display_name": "Python 3 (ipykernel)",
   "language": "python",
   "name": "python3"
  },
  "language_info": {
   "codemirror_mode": {
    "name": "ipython",
    "version": 3
   },
   "file_extension": ".py",
   "mimetype": "text/x-python",
   "name": "python",
   "nbconvert_exporter": "python",
   "pygments_lexer": "ipython3",
   "version": "3.9.12"
  }
 },
 "nbformat": 4,
 "nbformat_minor": 5
}
